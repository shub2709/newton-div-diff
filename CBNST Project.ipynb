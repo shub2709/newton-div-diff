{
 "cells": [
  {
   "cell_type": "markdown",
   "metadata": {},
   "source": [
    "# Computer Based Numerical and Statistical Techniques Project<br>\n",
    "\n",
    "\n",
    "Name: Shaurya Pratap Singh<br>\n",
    "Roll Number: 160102364<br>\n",
    "Class: CSE - D<br>\n",
    "\n",
    "Name: Shubham Guleria<br>\n",
    "Roll Number: 160102204<br>\n",
    "Class: CSE - D<br>"
   ]
  },
  {
   "cell_type": "markdown",
   "metadata": {},
   "source": [
    "### Data-Set\n",
    "Daily details for the exchange of the crypto currency 'Bitcoin' for the year 2016.<br>\n",
    "[Link for the data set.](https://www.kaggle.com/jessevent/all-crypto-currencies/data)"
   ]
  },
  {
   "cell_type": "markdown",
   "metadata": {},
   "source": [
    "### Problem Statement\n",
    "The aim of the following project is to showcase the utility of Newton’s Interpolation method of divided differences in the prediction of missing values in a data-set. This could find an appilcation in the real world in the areas such as prediction of missing data or data retrieval in case of corruption.<br>\n",
    "\n",
    "We have tried to showcase this utility on the data-set of the exchange rate of the crypto currency, ‘Bitcoin’ for the year 2016.<br>\n",
    "\n",
    "For which, we have made a set number of predictions for different days of the year and found out the corresponding errors with respect to the true values. These have been graphically analysed to see how efficient our method actually was.<br>"
   ]
  },
  {
   "cell_type": "markdown",
   "metadata": {},
   "source": [
    "### Mathematical Formulae Involved\n",
    "**1. Newton's Divided Difference Interpolation formula: ** We chose to use the newton divided difference formula so as to see how accurate the predictions would be, given we choose random data although there is no restriction so as to choose a method of interpolation.\n",
    "\n",
    "**2. Relative Error Calculation: ** This has been used so as to perform an empirical analysis of the interpolation method that was decided to be used by comparing predicted value with the true value."
   ]
  },
  {
   "cell_type": "markdown",
   "metadata": {},
   "source": [
    "### Software Used\n",
    "**Programming Language: ** Python has been chosen as the programming language since it offers the state of the art libraries for data-analysis. The libraries involved in the following project are:<br>\n",
    "*Pandas: A powerful data - manupulation library.<br>\n",
    "Numpy: A library that allows handeing of complex data-types by the means of vectors known as NDArrays.<br>\n",
    "Matplotlib: A library that allows visualisation of data by the means of plots and graphs.<br>\n",
    "Random: A library that allows random number generation. *<br>\n",
    "\n",
    "\n",
    "**Documentation: ** The documentation for the following project has been done on *Jupyter Notebooks*. These are a fork of ipython interactive shell and thuse help in analysing data within the documentation by manupulating it. It is a modern apporach to interactive programming."
   ]
  },
  {
   "cell_type": "markdown",
   "metadata": {},
   "source": [
    "### Interactive Project"
   ]
  },
  {
   "cell_type": "markdown",
   "metadata": {},
   "source": [
    "**Step 1:** Import the necessary modules and prepare our enviornment."
   ]
  },
  {
   "cell_type": "code",
   "execution_count": 34,
   "metadata": {
    "collapsed": true
   },
   "outputs": [],
   "source": [
    "# import statements\n",
    "import random\n",
    "import numpy as np\n",
    "import pandas as pd\n",
    "import matplotlib.pyplot as plt\n",
    "\n",
    "# allows for inline poltting, so that new window doesn't pop\n",
    "%matplotlib inline"
   ]
  },
  {
   "cell_type": "markdown",
   "metadata": {},
   "source": [
    "**Step 2:** Import our data-set into a dataframe object and assign header names."
   ]
  },
  {
   "cell_type": "code",
   "execution_count": 449,
   "metadata": {},
   "outputs": [
    {
     "data": {
      "text/html": [
       "<div>\n",
       "<table border=\"1\" class=\"dataframe\">\n",
       "  <thead>\n",
       "    <tr style=\"text-align: right;\">\n",
       "      <th></th>\n",
       "      <th>Day</th>\n",
       "      <th>Value</th>\n",
       "    </tr>\n",
       "  </thead>\n",
       "  <tbody>\n",
       "    <tr>\n",
       "      <th>0</th>\n",
       "      <td>1</td>\n",
       "      <td>434.33</td>\n",
       "    </tr>\n",
       "    <tr>\n",
       "      <th>1</th>\n",
       "      <td>2</td>\n",
       "      <td>433.44</td>\n",
       "    </tr>\n",
       "    <tr>\n",
       "      <th>2</th>\n",
       "      <td>3</td>\n",
       "      <td>430.01</td>\n",
       "    </tr>\n",
       "    <tr>\n",
       "      <th>3</th>\n",
       "      <td>4</td>\n",
       "      <td>433.09</td>\n",
       "    </tr>\n",
       "    <tr>\n",
       "      <th>4</th>\n",
       "      <td>5</td>\n",
       "      <td>431.96</td>\n",
       "    </tr>\n",
       "  </tbody>\n",
       "</table>\n",
       "</div>"
      ],
      "text/plain": [
       "   Day   Value\n",
       "0    1  434.33\n",
       "1    2  433.44\n",
       "2    3  430.01\n",
       "3    4  433.09\n",
       "4    5  431.96"
      ]
     },
     "execution_count": 449,
     "metadata": {},
     "output_type": "execute_result"
    }
   ],
   "source": [
    "# preparing a data frame\n",
    "headers = ['Day', 'Value']\n",
    "data = pd.read_csv('Bitcoin_Data_Set.csv', names = headers)\n",
    "\n",
    "# head prints first 5 values\n",
    "data.head()"
   ]
  },
  {
   "cell_type": "markdown",
   "metadata": {},
   "source": [
    "*The above Table showcases our data-set.*<br>\n",
    "**Step 3:** Writing our Interpolation modules."
   ]
  },
  {
   "cell_type": "code",
   "execution_count": 326,
   "metadata": {
    "collapsed": true
   },
   "outputs": [],
   "source": [
    "# Returns a Coefficient Array takes 'x, y arrays'  as arguments\n",
    "def coefficient(x_array, y_array):\n",
    "    # astype() typecasts an entire data object.\n",
    "    x_array.astype(float)\n",
    "    y_array.astype(float)\n",
    "    n = len(x_array)\n",
    "    \n",
    "    coefficient_array = []\n",
    "\n",
    "    for i in range(n):\n",
    "        coefficient_array.append(y_array[i])\n",
    "\n",
    "    for j in range(1, n):\n",
    "        for i in range(n-1, j-1, -1):\n",
    "            coefficient_array[i] = float(coefficient_array[i]-coefficient_array[i-1])/float(x_array[i]-x_array[i-j])\n",
    "\n",
    "    return np.array(coefficient_array)"
   ]
  },
  {
   "cell_type": "code",
   "execution_count": 425,
   "metadata": {
    "collapsed": true
   },
   "outputs": [],
   "source": [
    "# Returns the value f(x) corresponding to x, takes 'coefficient array', 'x array' and 'interpolation variable x' as arguments\n",
    "def evaluate(coefficient_array, x_array, x):\n",
    "    x_array.astype(float)\n",
    "    n = len(coefficient_array) - 1\n",
    "    fx = coefficient_array[n]\n",
    "\n",
    "    for i in range(n - 1, -1, -1):\n",
    "        fx = fx * (x - x_array[i]) + coefficient_array[i]\n",
    "\n",
    "    return fx"
   ]
  },
  {
   "cell_type": "markdown",
   "metadata": {},
   "source": [
    "**Step 4:** After writing the modules, we *Sample* our data for a set of values that will help us interpolate. This is done using the *pd.sample()* method that can sample a set of n values in the data set or a fraction of it."
   ]
  },
  {
   "cell_type": "code",
   "execution_count": 456,
   "metadata": {},
   "outputs": [
    {
     "data": {
      "text/html": [
       "<div>\n",
       "<table border=\"1\" class=\"dataframe\">\n",
       "  <thead>\n",
       "    <tr style=\"text-align: right;\">\n",
       "      <th></th>\n",
       "      <th>Day</th>\n",
       "      <th>Value</th>\n",
       "    </tr>\n",
       "  </thead>\n",
       "  <tbody>\n",
       "    <tr>\n",
       "      <th>89</th>\n",
       "      <td>90</td>\n",
       "      <td>414.82</td>\n",
       "    </tr>\n",
       "    <tr>\n",
       "      <th>160</th>\n",
       "      <td>161</td>\n",
       "      <td>574.63</td>\n",
       "    </tr>\n",
       "    <tr>\n",
       "      <th>179</th>\n",
       "      <td>180</td>\n",
       "      <td>647.00</td>\n",
       "    </tr>\n",
       "    <tr>\n",
       "      <th>210</th>\n",
       "      <td>211</td>\n",
       "      <td>656.99</td>\n",
       "    </tr>\n",
       "    <tr>\n",
       "      <th>310</th>\n",
       "      <td>311</td>\n",
       "      <td>711.52</td>\n",
       "    </tr>\n",
       "    <tr>\n",
       "      <th>350</th>\n",
       "      <td>351</td>\n",
       "      <td>784.91</td>\n",
       "    </tr>\n",
       "  </tbody>\n",
       "</table>\n",
       "</div>"
      ],
      "text/plain": [
       "     Day   Value\n",
       "89    90  414.82\n",
       "160  161  574.63\n",
       "179  180  647.00\n",
       "210  211  656.99\n",
       "310  311  711.52\n",
       "350  351  784.91"
      ]
     },
     "execution_count": 456,
     "metadata": {},
     "output_type": "execute_result"
    }
   ],
   "source": [
    "df = pd.DataFrame(data)\n",
    "\n",
    "# sampling 6 values \n",
    "df_random = df.sample(6)\n",
    "\n",
    "# sorting the sampled data\n",
    "df_random.sort_values('Day', inplace = True)\n",
    "df_random"
   ]
  },
  {
   "cell_type": "markdown",
   "metadata": {},
   "source": [
    "*The above table shows the sampled values*<br>\n",
    "**Step 5:** Our next set of instructions uses the *random.randint()* method so as to select random *Days* between the minimum and maximum *Days* of our sampled data. We then use our interpolation technique to make predictions corresponding to these *Days*"
   ]
  },
  {
   "cell_type": "code",
   "execution_count": 468,
   "metadata": {},
   "outputs": [
    {
     "data": {
      "text/html": [
       "<div>\n",
       "<table border=\"1\" class=\"dataframe\">\n",
       "  <thead>\n",
       "    <tr style=\"text-align: right;\">\n",
       "      <th></th>\n",
       "      <th>Day</th>\n",
       "      <th>True</th>\n",
       "      <th>Predicted</th>\n",
       "    </tr>\n",
       "  </thead>\n",
       "  <tbody>\n",
       "    <tr>\n",
       "      <th>46</th>\n",
       "      <td>102</td>\n",
       "      <td>425.19</td>\n",
       "      <td>320.234418</td>\n",
       "    </tr>\n",
       "    <tr>\n",
       "      <th>14</th>\n",
       "      <td>103</td>\n",
       "      <td>423.73</td>\n",
       "      <td>316.933875</td>\n",
       "    </tr>\n",
       "    <tr>\n",
       "      <th>2</th>\n",
       "      <td>114</td>\n",
       "      <td>458.56</td>\n",
       "      <td>314.794742</td>\n",
       "    </tr>\n",
       "    <tr>\n",
       "      <th>1</th>\n",
       "      <td>120</td>\n",
       "      <td>448.32</td>\n",
       "      <td>333.855618</td>\n",
       "    </tr>\n",
       "    <tr>\n",
       "      <th>10</th>\n",
       "      <td>130</td>\n",
       "      <td>450.89</td>\n",
       "      <td>384.848597</td>\n",
       "    </tr>\n",
       "  </tbody>\n",
       "</table>\n",
       "</div>"
      ],
      "text/plain": [
       "    Day    True   Predicted\n",
       "46  102  425.19  320.234418\n",
       "14  103  423.73  316.933875\n",
       "2   114  458.56  314.794742\n",
       "1   120  448.32  333.855618\n",
       "10  130  450.89  384.848597"
      ]
     },
     "execution_count": 468,
     "metadata": {},
     "output_type": "execute_result"
    }
   ],
   "source": [
    "# Creating our x and y arrays for Days and Values\n",
    "result  = []\n",
    "\n",
    "# Conversion to NDArrays\n",
    "x_array = np.array(df_random['Day'])\n",
    "y_array = np.array(df_random['Value'])\n",
    "\n",
    "# Random selection of values to be predicted, 50 in this case\n",
    "for i in range(50):\n",
    "    x = random.randint(df_random.min(0)['Day'], df_random.max(0)['Day'],)\n",
    "    result.append((int(x), data.iloc[int(x)]['Value'], evaluate(coefficient(x_array, y_array), x_array, x)))\n",
    "\n",
    "# Conversion of the result list to a dataframe\n",
    "result = pd.DataFrame(result)\n",
    "result.columns = ['Day', 'True', 'Predicted']\n",
    "result.sort_values('Day', inplace = True)\n",
    "result.head()"
   ]
  },
  {
   "cell_type": "markdown",
   "metadata": {},
   "source": [
    "*The above table showcases the first five values of our predictions the .head() suffix can be removed to list all*<br>\n",
    "**Step 6:** We now plot the predicted values and the true values so as to obtain a visual representation of our interpolation results and compare them to the true values."
   ]
  },
  {
   "cell_type": "code",
   "execution_count": 458,
   "metadata": {
    "scrolled": true
   },
   "outputs": [
    {
     "data": {
      "image/png": "[encoded data removed]",
      "text/plain": [
       "<matplotlib.figure.Figure at 0x7fe2b1c1d6d8>"
      ]
     },
     "metadata": {},
     "output_type": "display_data"
    }
   ],
   "source": [
    "plt.plot(result.loc[:, 'Day'], result.loc[:, 'True'], label='Actual Value')\n",
    "plt.plot(result.loc[:, 'Day'], result.loc[:, 'Predicted'], label='Predicted Value')\n",
    "plt.legend()\n",
    "plt.xlabel('Days')\n",
    "plt.ylabel('Value')\n",
    "plt.show()"
   ]
  },
  {
   "cell_type": "markdown",
   "metadata": {},
   "source": [
    "*A comparision of predicted vs true value.*<br>\n",
    "**Step 7:** Lastly we calculate the relative error of our predictions and obtain a scatter plot against the days."
   ]
  },
  {
   "cell_type": "code",
   "execution_count": 467,
   "metadata": {},
   "outputs": [
    {
     "data": {
      "image/png": "[encoded data removed]",
      "text/plain": [
       "<matplotlib.figure.Figure at 0x7fe2abc58b00>"
      ]
     },
     "metadata": {},
     "output_type": "display_data"
    }
   ],
   "source": [
    "true = np.array(result.loc[:, 'True'])\n",
    "predicted = np.array(result.loc[:, 'Predicted'])\n",
    "error = [abs(true-predicted)/true * 100][0]\n",
    "plt.scatter(result.loc[:, 'Day'], error, label='Error in prediction')\n",
    "plt.xlabel('Day')\n",
    "plt.ylabel('Rrelative % Error')\n",
    "plt.legend()\n",
    "plt.show()"
   ]
  },
  {
   "cell_type": "markdown",
   "metadata": {},
   "source": [
    "### Result\n",
    "By examining the graph and the scatter plot obtained, we can infer that the error in the predictions is related to how well our sampling covers the data-set. It is crucial for us to cover most of the data set within a minimum number of possible points so as to get the best result. The error increases if the interval between two values vastly differs from the interval that is between the other values. Also, increasing the number of points in the sampled data-set leads to erratic behaviour of our interpolative function."
   ]
  },
  {
   "cell_type": "code",
   "execution_count": null,
   "metadata": {
    "collapsed": true
   },
   "outputs": [],
   "source": []
  }
 ],
 "metadata": {
  "kernelspec": {
   "display_name": "Python 3",
   "language": "python",
   "name": "python3"
  },
  "language_info": {
   "codemirror_mode": {
    "name": "ipython",
    "version": 3
   },
   "file_extension": ".py",
   "mimetype": "text/x-python",
   "name": "python",
   "nbconvert_exporter": "python",
   "pygments_lexer": "ipython3",
   "version": "3.5.2"
  }
 },
 "nbformat": 4,
 "nbformat_minor": 2
}
